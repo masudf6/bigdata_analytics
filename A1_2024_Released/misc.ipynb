{
 "cells": [
  {
   "cell_type": "code",
   "execution_count": null,
   "metadata": {},
   "outputs": [],
   "source": [
    "import os\n",
    "import pandas as pd\n",
    "\n",
    "def import_csvs_to_dfs(csv_files, columns):\n",
    "    dataframes = {}\n",
    "    \n",
    "    for csv_file in csv_files:\n",
    "        # Extract the name without extension to use as a key\n",
    "        key = os.path.splitext(os.path.basename(csv_file))[0]\n",
    "        dataframes[key] = pd.read_csv(csv_file, usecols=columns)\n",
    "    \n",
    "    return dataframes\n",
    "\n",
    "csv_files = [\n",
    "    'accessories.csv', 'bags.csv', 'beauty.csv', 'house.csv', \n",
    "    'jewelry.csv', 'kids.csv', 'men.csv', 'shoes.csv', 'women.csv'\n",
    "]\n",
    "\n",
    "selected_columns = [\n",
    "    'category', 'subcategory', 'current_price', 'raw_price', \n",
    "    'currency', 'discount', 'likes_count', 'is_new', 'brand', 'id', 'model'\n",
    "]\n",
    "\n",
    "dfs = import_csvs_to_dfs(csv_files, selected_columns)\n",
    "\n",
    "# Accessing a specific DataFrame\n",
    "accessories_df = dfs['accessories']\n",
    "bags_df = dfs['bags']\n",
    "beauty_df = dfs['beauty']\n",
    "house_df = dfs['house']\n",
    "jewelry_df = dfs['jewelry']\n",
    "kids_df = dfs['kids']\n",
    "men_df = dfs['men']\n",
    "shoes_df = dfs['shoes']\n",
    "women_df = dfs['women']\n",
    "\n",
    "combined_df = pd.concat(dfs.values(), ignore_index=True)"
   ]
  },
  {
   "cell_type": "code",
   "execution_count": null,
   "metadata": {},
   "outputs": [],
   "source": [
    "accessories_df = combined_df[combined_df['category'] == 'accessories']\n",
    "bags_df = combined_df[combined_df['category'] == 'bags']\n",
    "beauty_df = combined_df[combined_df['category'] == 'beauty']\n",
    "house_df = combined_df[combined_df['category'] == 'house']\n",
    "jewelry_df = combined_df[combined_df['category'] == 'jewelry']\n",
    "kids_df = combined_df[combined_df['category'] == 'kids']\n",
    "men_df = combined_df[combined_df['category'] == 'men']\n",
    "shoes_df = combined_df[combined_df['category'] == 'shoes']\n",
    "women_df = combined_df[combined_df['category'] == 'women']"
   ]
  },
  {
   "cell_type": "code",
   "execution_count": null,
   "metadata": {},
   "outputs": [],
   "source": [
    "category_scores = df.groupby('category').agg({\n",
    "    'likes_count': 'sum',\n",
    "    'discount': 'median',\n",
    "}).reset_index()\n",
    "\n",
    "print(category_scores)"
   ]
  },
  {
   "cell_type": "code",
   "execution_count": null,
   "metadata": {},
   "outputs": [],
   "source": [
    "top_10_by_likes = combined_df.nlargest(20, 'likes_count')\n",
    "top_10_by_likes.head(20)"
   ]
  },
  {
   "cell_type": "code",
   "execution_count": null,
   "metadata": {},
   "outputs": [],
   "source": [
    "# Filter DataFrame to include only rows where likes_count <= 5000\n",
    "filtered_df = df[df['likes_count'] <= 1000]\n",
    "\n",
    "# List of unique categories\n",
    "categories = filtered_df['category'].unique()\n",
    "\n",
    "# Define the size of the subplots grid\n",
    "n_rows, n_cols = 3, 3\n",
    "\n",
    "# Create the subplots\n",
    "fig, axes = plt.subplots(n_rows, n_cols, figsize=(15, 15), sharex=True, sharey=True)\n",
    "\n",
    "# Flatten axes array for easy iteration\n",
    "axes = axes.flatten()\n",
    "\n",
    "# Plot each category\n",
    "for ax, category in zip(axes, categories):\n",
    "    sns.histplot(filtered_df[filtered_df['category'] == category]['likes_count'], ax=ax, kde=True)\n",
    "    ax.set_title(category)\n",
    "    ax.set_xlabel('Likes Count')\n",
    "    ax.set_ylabel('Frequency')\n",
    "\n",
    "# Remove any unused subplots\n",
    "for i in range(len(categories), len(axes)):\n",
    "    fig.delaxes(axes[i])\n",
    "\n",
    "# Adjust layout\n",
    "plt.tight_layout()\n",
    "plt.show()"
   ]
  }
 ],
 "metadata": {
  "language_info": {
   "name": "python"
  }
 },
 "nbformat": 4,
 "nbformat_minor": 2
}
